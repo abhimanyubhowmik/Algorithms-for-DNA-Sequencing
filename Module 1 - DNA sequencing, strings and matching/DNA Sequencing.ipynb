{
 "cells": [
  {
   "cell_type": "markdown",
   "metadata": {},
   "source": [
    "#### Basic Sequencing Functions"
   ]
  },
  {
   "cell_type": "code",
   "execution_count": 37,
   "metadata": {},
   "outputs": [],
   "source": [
    "def reverseComplement(s):\n",
    "    complement = {'A':'T','G':'C','C':'G','T':'A','N':'N'}\n",
    "    out = ''\n",
    "    for base in s:\n",
    "        out =  complement[base] + out\n",
    "    return out\n",
    "    "
   ]
  },
  {
   "cell_type": "code",
   "execution_count": 38,
   "metadata": {},
   "outputs": [
    {
     "data": {
      "text/plain": [
       "'TCCAGGGTTACGT'"
      ]
     },
     "execution_count": 38,
     "metadata": {},
     "output_type": "execute_result"
    }
   ],
   "source": [
    "reverseComplement('ACGTAACCCTGGA')"
   ]
  },
  {
   "cell_type": "code",
   "execution_count": 3,
   "metadata": {},
   "outputs": [],
   "source": [
    "def longestCommonPrefix(s1,s2):\n",
    "    i = 0\n",
    "    while i < len(s1) and i < len(s2) and s1[i] == s2[i]:\n",
    "        i += 1\n",
    "    \n",
    "    return s1[:i]\n"
   ]
  },
  {
   "cell_type": "markdown",
   "metadata": {},
   "source": [
    "#### Getting Enterobacteria phage lambda Genome"
   ]
  },
  {
   "cell_type": "code",
   "execution_count": 4,
   "metadata": {},
   "outputs": [
    {
     "name": "stdout",
     "output_type": "stream",
     "text": [
      "--2022-02-02 01:25:52--  http://d28rh4a8wq0iu5.cloudfront.net/ads1/data/lambda_virus.fa\n",
      "Resolving d28rh4a8wq0iu5.cloudfront.net (d28rh4a8wq0iu5.cloudfront.net)... 54.230.222.64, 54.230.222.194, 54.230.222.21, ...\n",
      "Connecting to d28rh4a8wq0iu5.cloudfront.net (d28rh4a8wq0iu5.cloudfront.net)|54.230.222.64|:80... connected.\n",
      "HTTP request sent, awaiting response... 200 OK\n",
      "Length: 49270 (48K) [application/octet-stream]\n",
      "Saving to: ‘lambda_virus.fa.1’\n",
      "\n",
      "lambda_virus.fa.1   100%[===================>]  48.12K  --.-KB/s    in 0.004s  \n",
      "\n",
      "2022-02-02 01:25:53 (12.2 MB/s) - ‘lambda_virus.fa.1’ saved [49270/49270]\n",
      "\n"
     ]
    }
   ],
   "source": [
    "!wget http://d28rh4a8wq0iu5.cloudfront.net/ads1/data/lambda_virus.fa"
   ]
  },
  {
   "cell_type": "code",
   "execution_count": 5,
   "metadata": {},
   "outputs": [],
   "source": [
    "def readGenome(filename):\n",
    "    genome = ''\n",
    "    with open(filename,'r') as f:\n",
    "        for line in f:\n",
    "            if line[0] != '>':\n",
    "                genome += line.rstrip()\n",
    "    return genome"
   ]
  },
  {
   "cell_type": "code",
   "execution_count": 6,
   "metadata": {},
   "outputs": [
    {
     "data": {
      "text/plain": [
       "'GGGCGGCGACCTCGCGGGTTTTCGCTATTTATGAAAATTTTCCGGTTTAAGGCGTTTCCGTTCTTCTTCGTCATAACTTAATGTTTTTATTTAAAATACC'"
      ]
     },
     "execution_count": 6,
     "metadata": {},
     "output_type": "execute_result"
    }
   ],
   "source": [
    "genome = readGenome('lambda_virus.fa')\n",
    "genome[:100]"
   ]
  },
  {
   "cell_type": "markdown",
   "metadata": {},
   "source": [
    "#### Basic Analysis"
   ]
  },
  {
   "cell_type": "code",
   "execution_count": 7,
   "metadata": {},
   "outputs": [
    {
     "data": {
      "text/plain": [
       "48502"
      ]
     },
     "execution_count": 7,
     "metadata": {},
     "output_type": "execute_result"
    }
   ],
   "source": [
    "len(genome)"
   ]
  },
  {
   "cell_type": "code",
   "execution_count": 8,
   "metadata": {},
   "outputs": [],
   "source": [
    "def count_base(genome):\n",
    "    count = {}\n",
    "    for base in genome:\n",
    "        if base not in count:\n",
    "            count[base] = 1\n",
    "        else:\n",
    "            count[base] += 1\n",
    "\n",
    "    return count"
   ]
  },
  {
   "cell_type": "code",
   "execution_count": 9,
   "metadata": {},
   "outputs": [
    {
     "data": {
      "text/plain": [
       "{'G': 12820, 'C': 11362, 'A': 12334, 'T': 11986}"
      ]
     },
     "execution_count": 9,
     "metadata": {},
     "output_type": "execute_result"
    }
   ],
   "source": [
    "count_base(genome)"
   ]
  },
  {
   "cell_type": "code",
   "execution_count": 10,
   "metadata": {},
   "outputs": [
    {
     "data": {
      "text/plain": [
       "Counter({'G': 12820, 'C': 11362, 'A': 12334, 'T': 11986})"
      ]
     },
     "execution_count": 10,
     "metadata": {},
     "output_type": "execute_result"
    }
   ],
   "source": [
    "import collections\n",
    "collections.Counter(genome)"
   ]
  },
  {
   "cell_type": "markdown",
   "metadata": {},
   "source": [
    "#### Sequencing Reads"
   ]
  },
  {
   "cell_type": "code",
   "execution_count": 11,
   "metadata": {},
   "outputs": [
    {
     "name": "stdout",
     "output_type": "stream",
     "text": [
      "--2022-02-02 01:25:53--  http://d28rh4a8wq0iu5.cloudfront.net/ads1/data/SRR835775_1.first1000.fastq\n",
      "Resolving d28rh4a8wq0iu5.cloudfront.net (d28rh4a8wq0iu5.cloudfront.net)... 54.230.222.21, 54.230.222.194, 54.230.222.139, ...\n",
      "Connecting to d28rh4a8wq0iu5.cloudfront.net (d28rh4a8wq0iu5.cloudfront.net)|54.230.222.21|:80... connected.\n",
      "HTTP request sent, awaiting response... 200 OK\n",
      "Length: 224786 (220K) [application/octet-stream]\n",
      "Saving to: ‘SRR835775_1.first1000.fastq.1’\n",
      "\n",
      "SRR835775_1.first10 100%[===================>] 219.52K  --.-KB/s    in 0.02s   \n",
      "\n",
      "2022-02-02 01:25:55 (9.93 MB/s) - ‘SRR835775_1.first1000.fastq.1’ saved [224786/224786]\n",
      "\n"
     ]
    }
   ],
   "source": [
    "!wget http://d28rh4a8wq0iu5.cloudfront.net/ads1/data/SRR835775_1.first1000.fastq"
   ]
  },
  {
   "cell_type": "code",
   "execution_count": 12,
   "metadata": {},
   "outputs": [],
   "source": [
    "def readFastQ(filename):\n",
    "    sequences = []\n",
    "    qualities = []\n",
    "    with open(filename,'r') as f:\n",
    "        while True:\n",
    "            f.readline()\n",
    "            seq = f.readline().rstrip()\n",
    "            f.readline()\n",
    "            qua = f.readline().rstrip()\n",
    "            if len(seq) == 0:\n",
    "                break\n",
    "            sequences.append(seq)\n",
    "            qualities.append(qua)\n",
    "    return sequences, qualities\n",
    "            \n",
    "\n"
   ]
  },
  {
   "cell_type": "code",
   "execution_count": 13,
   "metadata": {},
   "outputs": [],
   "source": [
    "seq , qua = readFastQ('SRR835775_1.first1000.fastq')"
   ]
  },
  {
   "cell_type": "code",
   "execution_count": 14,
   "metadata": {},
   "outputs": [
    {
     "data": {
      "text/plain": [
       "['TAACCCTAACCCTAACCCTAACCCTAACCCTAACCCTAACCCTAACCCTAACCCTCACCCTAACCCTAACCCTAACCGTATCCGTCACCCTAACCCTAAC',\n",
       " 'TAACCCTAACCCTAACCCTAACCCTAACCCTAACCCTAACCCTAACCCTAACCCTACCCTAACCCTAACCCTAACCCTAACCCTAACCCTAACCCTAACC',\n",
       " 'TAGGGTTAGGGTTAGGGTTAGGGTTAGGGTTAGGGTTAGGGTTAGGGTTAGGGTTAGGGTTAGGGTTAGGGTTAGGGTTAGGGTTAGGGTTAGGGTTAGG',\n",
       " 'TAGGGTTAGGGTTAGGGTTAGGGTTAGGGTTAGGGTTAGGGTTAGGGTTAGGGTTAGGGTTAGGGTTAAGGGTTGGGGGTTAGGGGTAGGGGTAGGGTTA',\n",
       " 'CTAACCCTAACCCTAACCCTAACCCTACCCTAACCCTAACCCTAACCCTAACCCTAACCCTAACCCTAACCCTAACCCAACCCTAACCCTAACCCTCACC']"
      ]
     },
     "execution_count": 14,
     "metadata": {},
     "output_type": "execute_result"
    }
   ],
   "source": [
    "seq[:5]"
   ]
  },
  {
   "cell_type": "code",
   "execution_count": 15,
   "metadata": {},
   "outputs": [
    {
     "data": {
      "text/plain": [
       "['???B1ADDD8??BB+C?B+:AA883CEE8?C3@DDD3)?D2;DC?8?=BAD=@C@(.6.6=A?=?@##################################',\n",
       " 'CCCFFFFFGHHGHJJJJJIJGIIJJJJJJJIJIJJJJJFJJFGIIIIH=CBFCF=CCEG)=>EHB2@@DEC>;;?=;(=?BBD?59?BA###########',\n",
       " '@@<DD?DDHHH<CBHII:CFGIGAGHIIG?CCGGE0BDHIIHIGICH8=FHGI=@EHGGGEEHH>);?CC@.;(=;?59,5<A599?CB>ABBCB><88A',\n",
       " '@CCFFDDFHHHDFHIJJCGGIJJHIIHJC?DHHIJ0?DGHI9BBFHICGGIGI=CDEGI=?AAEF7@?################################',\n",
       " '@<@FDFDDBBFHH@EBGGGEH@FFHE;EHIEGGBHG?)9?8BDGGBGGBCDGI=93=C6==C;CCD(?@>@#############################']"
      ]
     },
     "execution_count": 15,
     "metadata": {},
     "output_type": "execute_result"
    }
   ],
   "source": [
    "qua[:5]"
   ]
  },
  {
   "cell_type": "markdown",
   "metadata": {},
   "source": [
    "#### Analysis"
   ]
  },
  {
   "cell_type": "code",
   "execution_count": 16,
   "metadata": {},
   "outputs": [],
   "source": [
    "def phred33ToQ(quality_string):\n",
    "    return ord(quality_string) - 33"
   ]
  },
  {
   "cell_type": "code",
   "execution_count": 17,
   "metadata": {},
   "outputs": [],
   "source": [
    "import matplotlib.pyplot as plt\n",
    "\n",
    "def creatHist(qualities):\n",
    "    hist = [0] * 50\n",
    "\n",
    "    for qual in qualities:\n",
    "        for phred in qual:\n",
    "            Q = phred33ToQ(phred)\n",
    "            hist[Q] += 1\n",
    "    plt.bar(range(len(hist)),hist)\n",
    "    plt.plot\n"
   ]
  },
  {
   "cell_type": "code",
   "execution_count": 18,
   "metadata": {},
   "outputs": [
    {
     "data": {
      "image/png": "[encoded data removed]",
      "text/plain": [
       "<Figure size 432x288 with 1 Axes>"
      ]
     },
     "metadata": {
      "needs_background": "light"
     },
     "output_type": "display_data"
    }
   ],
   "source": [
    "creatHist(qua)"
   ]
  },
  {
   "cell_type": "code",
   "execution_count": 19,
   "metadata": {},
   "outputs": [],
   "source": [
    "def findGCbyPosition(reads):\n",
    "    gc = [0] * 100\n",
    "    totals = [0] * 100\n",
    "\n",
    "    for read in reads:\n",
    "        for i in range(len(read)):\n",
    "            if read[i] == 'C' or read[i] == 'G':\n",
    "                gc[i] += 1\n",
    "            totals[i] += 1\n",
    "    \n",
    "    for i in range(len(gc)):\n",
    "        if totals[i] > 0:\n",
    "            gc[i] /= float(totals[i])\n",
    "    plt.plot(range(len(gc)),gc)\n",
    "    plt.show()\n",
    "\n"
   ]
  },
  {
   "cell_type": "code",
   "execution_count": 20,
   "metadata": {},
   "outputs": [
    {
     "data": {
      "image/png": "[encoded data removed]",
      "text/plain": [
       "<Figure size 432x288 with 1 Axes>"
      ]
     },
     "metadata": {
      "needs_background": "light"
     },
     "output_type": "display_data"
    }
   ],
   "source": [
    "findGCbyPosition(seq)"
   ]
  },
  {
   "cell_type": "code",
   "execution_count": 21,
   "metadata": {},
   "outputs": [
    {
     "data": {
      "text/plain": [
       "Counter({'T': 21836, 'A': 21132, 'C': 28272, 'G': 28742, 'N': 18})"
      ]
     },
     "execution_count": 21,
     "metadata": {},
     "output_type": "execute_result"
    }
   ],
   "source": [
    "def countBase(sequences):\n",
    "    count = collections.Counter()\n",
    "    for seq in sequences:\n",
    "        count.update(seq)\n",
    "    return count\n",
    "\n",
    "countBase(seq)"
   ]
  },
  {
   "cell_type": "markdown",
   "metadata": {},
   "source": [
    "#### Naieve Exact Matching Algorithm"
   ]
  },
  {
   "cell_type": "code",
   "execution_count": 22,
   "metadata": {},
   "outputs": [
    {
     "name": "stdout",
     "output_type": "stream",
     "text": [
      "--2022-02-02 01:25:57--  http://d28rh4a8wq0iu5.cloudfront.net/ads1/data/phix.fa\n",
      "Resolving d28rh4a8wq0iu5.cloudfront.net (d28rh4a8wq0iu5.cloudfront.net)... 54.230.222.21, 54.230.222.194, 54.230.222.139, ...\n",
      "Connecting to d28rh4a8wq0iu5.cloudfront.net (d28rh4a8wq0iu5.cloudfront.net)|54.230.222.21|:80... connected.\n",
      "HTTP request sent, awaiting response... 200 OK\n",
      "Length: 5528 (5.4K) [application/octet-stream]\n",
      "Saving to: ‘phix.fa.1’\n",
      "\n",
      "phix.fa.1           100%[===================>]   5.40K  --.-KB/s    in 0s      \n",
      "\n",
      "2022-02-02 01:25:58 (99.5 MB/s) - ‘phix.fa.1’ saved [5528/5528]\n",
      "\n"
     ]
    }
   ],
   "source": [
    "!wget http://d28rh4a8wq0iu5.cloudfront.net/ads1/data/phix.fa"
   ]
  },
  {
   "cell_type": "code",
   "execution_count": 23,
   "metadata": {},
   "outputs": [],
   "source": [
    "genome = readGenome('phix.fa')"
   ]
  },
  {
   "cell_type": "code",
   "execution_count": 24,
   "metadata": {},
   "outputs": [],
   "source": [
    "def naive(pattern,genome):\n",
    "    occurrences = []\n",
    "    for i in range(len(genome) - len(pattern) + 1):\n",
    "        match = True\n",
    "        for j in range(len(pattern)):\n",
    "            if genome[i + j] != pattern[j]:\n",
    "                match = False\n",
    "                break\n",
    "        if match :\n",
    "            occurrences.append(i)\n",
    "\n",
    "    return occurrences"
   ]
  },
  {
   "cell_type": "code",
   "execution_count": 25,
   "metadata": {},
   "outputs": [],
   "source": [
    "import random\n",
    "\n",
    "def generateRead(genome, numReads, readLen):\n",
    "\n",
    "    read = []\n",
    "\n",
    "    for _ in range(numReads):\n",
    "        start = random.randint(0,len(genome) - readLen) - 1\n",
    "        read.append(genome[start:start + readLen])\n",
    "    return read\n"
   ]
  },
  {
   "cell_type": "code",
   "execution_count": 26,
   "metadata": {},
   "outputs": [
    {
     "name": "stdout",
     "output_type": "stream",
     "text": [
      "100 out of 100 matched exactly.\n"
     ]
    }
   ],
   "source": [
    "reads = generateRead(genome,100,100)\n",
    "\n",
    "numMatch = 0\n",
    "for read in reads:\n",
    "    matches = naive(read,genome)\n",
    "    if len(matches) > 0:\n",
    "        numMatch += 1\n",
    "\n",
    "print('%d out of %d matched exactly.' %(numMatch,len(reads)))\n"
   ]
  },
  {
   "cell_type": "code",
   "execution_count": 27,
   "metadata": {},
   "outputs": [
    {
     "name": "stdout",
     "output_type": "stream",
     "text": [
      "--2022-02-02 01:25:58--  http://d28rh4a8wq0iu5.cloudfront.net/ads1/data/ERR266411_1.first1000.fastq\n",
      "Resolving d28rh4a8wq0iu5.cloudfront.net (d28rh4a8wq0iu5.cloudfront.net)... 54.230.222.21, 54.230.222.194, 54.230.222.139, ...\n",
      "Connecting to d28rh4a8wq0iu5.cloudfront.net (d28rh4a8wq0iu5.cloudfront.net)|54.230.222.21|:80... connected.\n",
      "HTTP request sent, awaiting response... 200 OK\n",
      "Length: 254384 (248K) [audio/mpeg]\n",
      "Saving to: ‘ERR266411_1.first1000.fastq.1’\n",
      "\n",
      "ERR266411_1.first10 100%[===================>] 248.42K  --.-KB/s    in 0.02s   \n",
      "\n",
      "2022-02-02 01:25:58 (10.9 MB/s) - ‘ERR266411_1.first1000.fastq.1’ saved [254384/254384]\n",
      "\n"
     ]
    }
   ],
   "source": [
    "!wget http://d28rh4a8wq0iu5.cloudfront.net/ads1/data/ERR266411_1.first1000.fastq"
   ]
  },
  {
   "cell_type": "code",
   "execution_count": 28,
   "metadata": {},
   "outputs": [],
   "source": [
    "phiX_reads , _ = readFastQ('ERR266411_1.first1000.fastq')"
   ]
  },
  {
   "cell_type": "code",
   "execution_count": 29,
   "metadata": {},
   "outputs": [
    {
     "name": "stdout",
     "output_type": "stream",
     "text": [
      "459 out of 1000 matched exactly.\n"
     ]
    }
   ],
   "source": [
    "numMatch = 0\n",
    "n = 0\n",
    "for read in phiX_reads:\n",
    "    read = read[:30]\n",
    "    matches = naive(read,genome)\n",
    "    n += 1\n",
    "    if len(matches) > 0:\n",
    "        numMatch += 1\n",
    "\n",
    "print('%d out of %d matched exactly.' %(numMatch,n))"
   ]
  },
  {
   "cell_type": "code",
   "execution_count": 39,
   "metadata": {},
   "outputs": [
    {
     "name": "stdout",
     "output_type": "stream",
     "text": [
      "932 out of 1000 matched exactly.\n"
     ]
    }
   ],
   "source": [
    "numMatch = 0\n",
    "n = 0\n",
    "for read in phiX_reads:\n",
    "    read = read[:30]\n",
    "    matches = naive(read,genome)\n",
    "    comp_matches = naive(reverseComplement(str(read)),genome)\n",
    "    tot_matches = matches + comp_matches\n",
    "    n += 1\n",
    "    if len(tot_matches) > 0:\n",
    "        numMatch += 1\n",
    "\n",
    "print('%d out of %d matched exactly.' %(numMatch,n))"
   ]
  }
 ],
 "metadata": {
  "interpreter": {
   "hash": "aee8b7b246df8f9039afb4144a1f6fd8d2ca17a180786b69acc140d282b71a49"
  },
  "kernelspec": {
   "display_name": "Python 3.9.7 64-bit",
   "language": "python",
   "name": "python3"
  },
  "language_info": {
   "codemirror_mode": {
    "name": "ipython",
    "version": 3
   },
   "file_extension": ".py",
   "mimetype": "text/x-python",
   "name": "python",
   "nbconvert_exporter": "python",
   "pygments_lexer": "ipython3",
   "version": "3.9.7"
  },
  "orig_nbformat": 4
 },
 "nbformat": 4,
 "nbformat_minor": 2
}

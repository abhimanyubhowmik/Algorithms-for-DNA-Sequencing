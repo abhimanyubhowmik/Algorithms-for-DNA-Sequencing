{
 "cells": [
  {
   "cell_type": "markdown",
   "metadata": {},
   "source": [
    "### Programming Assignment - 1\n",
    "\n",
    "\n",
    "\n",
    "\n",
    "\n",
    "#### Q1. How many times does AGGT or its reverse complement (ACCT) occur in the lambda virus genome?  E.g. if AGGT occurs 10 times and ACCT occurs 12 times, you should report 22."
   ]
  },
  {
   "cell_type": "code",
   "execution_count": 1,
   "metadata": {},
   "outputs": [],
   "source": [
    "def readGenome(filename):\n",
    "    genome = ''\n",
    "    with open(filename,'r') as f:\n",
    "        for line in f:\n",
    "            # ignore header line with genome information\n",
    "            if line[0] != '>':\n",
    "                genome += line.rstrip()\n",
    "    return genome"
   ]
  },
  {
   "cell_type": "code",
   "execution_count": 2,
   "metadata": {},
   "outputs": [
    {
     "data": {
      "text/plain": [
       "'GGGCGGCGACCTCGCGGGTTTTCGCTATTTATGAAAATTTTCCGGTTTAAGGCGTTTCCGTTCTTCTTCGTCATAACTTAATGTTTTTATTTAAAATACC'"
      ]
     },
     "execution_count": 2,
     "metadata": {},
     "output_type": "execute_result"
    }
   ],
   "source": [
    "lambda_genome = readGenome('lambda_virus.fa')\n",
    "lambda_genome[:100]"
   ]
  },
  {
   "cell_type": "code",
   "execution_count": 3,
   "metadata": {},
   "outputs": [],
   "source": [
    "def reverseComplement(s):\n",
    "    complement = {'A':'T','G':'C','C':'G','T':'A','N':'N'}\n",
    "    out = ''\n",
    "    for base in s:\n",
    "        out =  complement[base] + out\n",
    "    return out\n",
    "    "
   ]
  },
  {
   "cell_type": "code",
   "execution_count": 24,
   "metadata": {},
   "outputs": [],
   "source": [
    "def naive_exact_matching(pattern,genome):\n",
    "    '''Returns number of occurences of a pattern in a genome'''\n",
    "    occurrences = 0\n",
    "    for i in range(len(genome) - len(pattern) + 1):\n",
    "        match = True\n",
    "        for j in range(len(pattern)):\n",
    "            if genome[i + j] != pattern[j]:\n",
    "                match = False\n",
    "                break\n",
    "        if match :\n",
    "            occurrences += 1\n",
    "    return occurrences"
   ]
  },
  {
   "cell_type": "code",
   "execution_count": 25,
   "metadata": {},
   "outputs": [],
   "source": [
    "def naive_with_rc(pattern,genome):\n",
    "    pattern_rc = reverseComplement(pattern)\n",
    "    occur = naive_exact_matching(pattern,genome)\n",
    "    # If reverse complement and the main strand is not equal\n",
    "    if not pattern == pattern_rc:\n",
    "        occur += naive_exact_matching(pattern_rc,genome)\n",
    "    return occur"
   ]
  },
  {
   "cell_type": "code",
   "execution_count": 26,
   "metadata": {},
   "outputs": [
    {
     "data": {
      "text/plain": [
       "306"
      ]
     },
     "execution_count": 26,
     "metadata": {},
     "output_type": "execute_result"
    }
   ],
   "source": [
    "naive_with_rc('AGGT',lambda_genome)"
   ]
  },
  {
   "cell_type": "markdown",
   "metadata": {},
   "source": [
    "#### Q2. How many times does TTAA or its reverse complement occur in the lambda virus genome?  \n",
    "\n",
    "Hint: TTAA and its reverse complement are equal, so remember not to double count."
   ]
  },
  {
   "cell_type": "code",
   "execution_count": 21,
   "metadata": {},
   "outputs": [
    {
     "data": {
      "text/plain": [
       "195"
      ]
     },
     "execution_count": 21,
     "metadata": {},
     "output_type": "execute_result"
    }
   ],
   "source": [
    "naive_with_rc('TTAA',lambda_genome)"
   ]
  },
  {
   "cell_type": "markdown",
   "metadata": {},
   "source": [
    "#### Q3. What is the offset of the leftmost occurrence of ACTAAGT or its reverse complement in the Lambda virus genome?  \n",
    "E.g. if the leftmost occurrence of ACTAAGT is at offset 40 (0-based) and the leftmost occurrence of its reverse complement ACTTAGT is at offset 29, then report 29."
   ]
  },
  {
   "cell_type": "code",
   "execution_count": 27,
   "metadata": {},
   "outputs": [],
   "source": [
    "def left_most_occurrence(pattern,genome):\n",
    "    '''Returns (0 based) leftmost occurences of a pattern in a genome'''\n",
    "    occurrences = []\n",
    "    for i in range(len(genome) - len(pattern) + 1):\n",
    "        match = True\n",
    "        for j in range(len(pattern)):\n",
    "            if genome[i + j] != pattern[j]:\n",
    "                match = False\n",
    "                break\n",
    "        if match :\n",
    "            occurrences.append(i)\n",
    "    return min(occurrences)"
   ]
  },
  {
   "cell_type": "code",
   "execution_count": 35,
   "metadata": {},
   "outputs": [],
   "source": [
    "def left_most_occurrence_with_rc(pattern,genome):\n",
    "    pattern_rc = reverseComplement(pattern)\n",
    "    occur = left_most_occurrence(pattern,genome)\n",
    "    # If reverse complement and the main strand is not equal\n",
    "    if not pattern == pattern_rc:\n",
    "        occur_rc = left_most_occurrence(pattern_rc,genome)\n",
    "        leftmost_pattern = min(occur_rc,occur)\n",
    "        return leftmost_pattern\n",
    "    \n",
    "    else:\n",
    "        return occur"
   ]
  },
  {
   "cell_type": "code",
   "execution_count": 36,
   "metadata": {},
   "outputs": [
    {
     "data": {
      "text/plain": [
       "26028"
      ]
     },
     "execution_count": 36,
     "metadata": {},
     "output_type": "execute_result"
    }
   ],
   "source": [
    "left_most_occurrence_with_rc('ACTAAGT',lambda_genome)"
   ]
  },
  {
   "cell_type": "markdown",
   "metadata": {},
   "source": [
    "#### Q4. What is the offset of the leftmost occurrence of AGTCGA or its reverse complement in the Lambda virus genome?\n",
    "\n",
    "\n"
   ]
  },
  {
   "cell_type": "code",
   "execution_count": 37,
   "metadata": {},
   "outputs": [
    {
     "data": {
      "text/plain": [
       "450"
      ]
     },
     "execution_count": 37,
     "metadata": {},
     "output_type": "execute_result"
    }
   ],
   "source": [
    "left_most_occurrence_with_rc('AGTCGA',lambda_genome)"
   ]
  },
  {
   "cell_type": "markdown",
   "metadata": {},
   "source": [
    "#### Q5. As we will discuss, sometimes we would like to find approximate matches for P in T. That is, we want to find occurrences with one or more differences.\n",
    "\n",
    "For Questions 5 and 6, make a new version of the \\verb|naive|naive function called naive_2mm that allows up to 2 mismatches per occurrence. Unlike for the previous questions, do not consider the reverse complement here.  We're looking for approximate matches for P itself, not its reverse complement.\n",
    "\n",
    "For example, ACTTTA occurs twice in ACTTACTTGATAAAGT, once at offset 0 with 2 mismatches, and once at offset 4 with 1 mismatch. So naive_2mm (’ACTTTA’, ’ACTTACTTGATAAAGT’) should return the list [0, 4].\n",
    "\n",
    "How many times does TTCAAGCC occur in the Lambda virus genome when allowing up to 2 mismatches? "
   ]
  },
  {
   "cell_type": "code",
   "execution_count": 49,
   "metadata": {},
   "outputs": [],
   "source": [
    "def naive_2mm(pattern,genome):\n",
    "    '''Returns number of occurences of a pattern and offset in a genome by allowing up to 2 mismatches per occurrence'''\n",
    "    occurrences = []\n",
    "    num_occ = 0\n",
    "    for i in range(len(genome) - len(pattern) + 1):\n",
    "        mismatch_count = 0\n",
    "        match = True\n",
    "        for j in range(len(pattern)):\n",
    "            if genome[i + j] != pattern[j]:\n",
    "                mismatch_count += 1\n",
    "                if mismatch_count > 2:\n",
    "                    match = False\n",
    "                    break\n",
    "        if match :\n",
    "            occurrences.append(i)\n",
    "            num_occ += 1\n",
    "    return occurrences , num_occ"
   ]
  },
  {
   "cell_type": "code",
   "execution_count": 99,
   "metadata": {},
   "outputs": [
    {
     "data": {
      "text/plain": [
       "191"
      ]
     },
     "execution_count": 99,
     "metadata": {},
     "output_type": "execute_result"
    }
   ],
   "source": [
    "pos_seq,num_seq = naive_2mm('TTCAAGCC',lambda_genome)\n",
    "num_seq"
   ]
  },
  {
   "cell_type": "markdown",
   "metadata": {},
   "source": [
    "#### Q6. What is the offset of the leftmost occurrence of AGGAGGTT in the Lambda virus genome when allowing up to 2 mismatches?"
   ]
  },
  {
   "cell_type": "code",
   "execution_count": 100,
   "metadata": {},
   "outputs": [
    {
     "data": {
      "text/plain": [
       "215"
      ]
     },
     "execution_count": 100,
     "metadata": {},
     "output_type": "execute_result"
    }
   ],
   "source": [
    "pos_seq,num_seq = naive_2mm('AGGAGGTT',lambda_genome)\n",
    "num_seq"
   ]
  },
  {
   "cell_type": "markdown",
   "metadata": {},
   "source": [
    "#### Q7. Finally, download and parse the provided FASTQ file containing real DNA sequencing reads derived from a human:\n",
    "\n",
    " https://d28rh4a8wq0iu5.cloudfront.net/ads1/data/ERR037900_1.first1000.fastq\n",
    "\n",
    "Note that the file has many reads in it and you should examine all of them together when answering this question.  The reads are taken from this study:\n",
    "\n",
    "Ajay, S. S., Parker, S. C., Abaan, H. O., Fajardo, K. V. F., & Margulies, E. H. (2011). Accurate\n",
    "\n",
    "and comprehensive sequencing of personal genomes. Genome research, 21(9), 1498-1505. \n",
    "\n",
    "This dataset has something wrong with it; one of the sequencing cycles is poor quality.\n",
    "\n",
    "Report which sequencing cycle has the problem.  Remember that a sequencing cycle corresponds to a particular offset in all the reads. For example, if the leftmost read position seems to have a problem consistently across reads, report 0. If the fourth position from the left has the problem, report 3. Do whatever analysis you think is needed to identify the bad cycle. It might help to review the \"Analyzing reads by position\" video."
   ]
  },
  {
   "cell_type": "code",
   "execution_count": 55,
   "metadata": {},
   "outputs": [
    {
     "name": "stdout",
     "output_type": "stream",
     "text": [
      "--2022-02-02 16:57:15--  https://d28rh4a8wq0iu5.cloudfront.net/ads1/data/ERR037900_1.first1000.fastq\n",
      "Resolving d28rh4a8wq0iu5.cloudfront.net (d28rh4a8wq0iu5.cloudfront.net)... 54.230.222.21, 54.230.222.139, 54.230.222.64, ...\n",
      "Connecting to d28rh4a8wq0iu5.cloudfront.net (d28rh4a8wq0iu5.cloudfront.net)|54.230.222.21|:443... connected.\n",
      "HTTP request sent, awaiting response... 200 OK\n",
      "Length: 241626 (236K) [application/octet-stream]\n",
      "Saving to: ‘ERR037900_1.first1000.fastq’\n",
      "\n",
      "ERR037900_1.first10 100%[===================>] 235.96K   371KB/s    in 0.6s    \n",
      "\n",
      "2022-02-02 16:57:17 (371 KB/s) - ‘ERR037900_1.first1000.fastq’ saved [241626/241626]\n",
      "\n"
     ]
    }
   ],
   "source": [
    "!wget https://d28rh4a8wq0iu5.cloudfront.net/ads1/data/ERR037900_1.first1000.fastq"
   ]
  },
  {
   "cell_type": "code",
   "execution_count": 57,
   "metadata": {},
   "outputs": [],
   "source": [
    "def readFastQ(filename):\n",
    "    sequences = []\n",
    "    qualities = []\n",
    "    with open(filename,'r') as f:\n",
    "        while True:\n",
    "            f.readline()\n",
    "            seq = f.readline().rstrip()\n",
    "            f.readline()\n",
    "            qua = f.readline().rstrip()\n",
    "            if len(seq) == 0:\n",
    "                break\n",
    "            sequences.append(seq)\n",
    "            qualities.append(qua)\n",
    "    return sequences, qualities"
   ]
  },
  {
   "cell_type": "code",
   "execution_count": 58,
   "metadata": {},
   "outputs": [],
   "source": [
    "human_seq , human_qua = readFastQ('ERR037900_1.first1000.fastq')"
   ]
  },
  {
   "cell_type": "code",
   "execution_count": 69,
   "metadata": {},
   "outputs": [],
   "source": [
    "import matplotlib.pyplot as plt\n",
    "\n",
    "def phred33ToQ(quality_string):\n",
    "    return ord(quality_string) - 33\n",
    "\n",
    "def creatHist(qualities):\n",
    "    hist = [0] * 50\n",
    "\n",
    "    for qual in qualities:\n",
    "        for phred in qual:\n",
    "            Q = phred33ToQ(phred)\n",
    "            hist[Q] += 1\n",
    "    plt.bar(range(len(hist)),hist)\n",
    "    plt.xlabel('Q Value')\n",
    "    plt.ylabel('Number of Reads')\n",
    "    plt.plot"
   ]
  },
  {
   "cell_type": "code",
   "execution_count": 70,
   "metadata": {},
   "outputs": [
    {
     "data": {
      "image/png": "[encoded data removed]",
      "text/plain": [
       "<Figure size 432x288 with 1 Axes>"
      ]
     },
     "metadata": {
      "needs_background": "light"
     },
     "output_type": "display_data"
    }
   ],
   "source": [
    "creatHist(human_qua)"
   ]
  },
  {
   "cell_type": "code",
   "execution_count": 72,
   "metadata": {},
   "outputs": [],
   "source": [
    "def findGCbyPosition(reads):\n",
    "    gc = [0] * 100\n",
    "    totals = [0] * 100\n",
    "\n",
    "    for read in reads:\n",
    "        for i in range(len(read)):\n",
    "            if read[i] == 'C' or read[i] == 'G':\n",
    "                gc[i] += 1\n",
    "            totals[i] += 1\n",
    "    \n",
    "    for i in range(len(gc)):\n",
    "        if totals[i] > 0:\n",
    "            gc[i] /= float(totals[i])\n",
    "    return gc"
   ]
  },
  {
   "cell_type": "code",
   "execution_count": 73,
   "metadata": {},
   "outputs": [
    {
     "data": {
      "image/png": "[encoded data removed]",
      "text/plain": [
       "<Figure size 432x288 with 1 Axes>"
      ]
     },
     "metadata": {
      "needs_background": "light"
     },
     "output_type": "display_data"
    }
   ],
   "source": [
    "gc_value = findGCbyPosition(human_seq)\n",
    "plt.plot(range(len(gc_value)),gc_value)\n",
    "plt.xlabel('Position in the Sequence')\n",
    "plt.ylabel('Ratio of GC Value in the Sequence')\n",
    "plt.show()"
   ]
  },
  {
   "cell_type": "code",
   "execution_count": 89,
   "metadata": {},
   "outputs": [],
   "source": [
    "import numpy as np\n",
    "\n",
    "def GCOutlierChecker(gc_profile):\n",
    "    mean = np.mean(gc_profile)\n",
    "    outliers = []\n",
    "    for i in range(len(gc_profile)):\n",
    "        if gc_profile[i] < (mean - 0.1) or gc_profile[i] > (mean + 0.1):\n",
    "            outliers.append(i)\n",
    "    \n",
    "    outlier_boundary = [outliers[0],outliers[len(outliers) - 1]]\n",
    "    return outliers, outlier_boundary"
   ]
  },
  {
   "cell_type": "code",
   "execution_count": 90,
   "metadata": {},
   "outputs": [
    {
     "data": {
      "text/plain": [
       "([66], [66, 66])"
      ]
     },
     "execution_count": 90,
     "metadata": {},
     "output_type": "execute_result"
    }
   ],
   "source": [
    "GCOutlierChecker(gc_value)"
   ]
  },
  {
   "cell_type": "code",
   "execution_count": 94,
   "metadata": {},
   "outputs": [],
   "source": [
    "def QscoreChecker(position,qualities):\n",
    "    Q_values = []\n",
    "    for q in qualities:\n",
    "        quality_enc = q[position]\n",
    "        quality = phred33ToQ(quality_enc)\n",
    "        Q_values.append(quality)\n",
    "    return np.mean(Q_values)  "
   ]
  },
  {
   "cell_type": "code",
   "execution_count": 95,
   "metadata": {},
   "outputs": [
    {
     "data": {
      "text/plain": [
       "4.526"
      ]
     },
     "execution_count": 95,
     "metadata": {},
     "output_type": "execute_result"
    }
   ],
   "source": [
    "QscoreChecker(66,human_qua)"
   ]
  },
  {
   "cell_type": "code",
   "execution_count": 97,
   "metadata": {},
   "outputs": [
    {
     "data": {
      "text/plain": [
       "29.632679999999997"
      ]
     },
     "execution_count": 97,
     "metadata": {},
     "output_type": "execute_result"
    }
   ],
   "source": [
    "Q_list = []\n",
    "for i in range(len(human_qua[0])):\n",
    "    Q_list.append(QscoreChecker(i,human_qua))\n",
    "\n",
    "np.average(Q_list)"
   ]
  },
  {
   "cell_type": "markdown",
   "metadata": {},
   "source": [
    "As the GC value of the sequencing cycle 66 is very low, which is unexpected in human genome (avg GC value of human genome is greater than 0.5), also the Quality Score that particular sequencing cycle is very low so we are not at all very confident about this perticular sequencing cycle (aprox 0.65 or 65% probality of being correct).\n",
    "\n",
    "#### So, according to the analysis the 66th sequencing cycle is wrong (very poor quality)."
   ]
  }
 ],
 "metadata": {
  "interpreter": {
   "hash": "aee8b7b246df8f9039afb4144a1f6fd8d2ca17a180786b69acc140d282b71a49"
  },
  "kernelspec": {
   "display_name": "Python 3.9.7 64-bit",
   "language": "python",
   "name": "python3"
  },
  "language_info": {
   "codemirror_mode": {
    "name": "ipython",
    "version": 3
   },
   "file_extension": ".py",
   "mimetype": "text/x-python",
   "name": "python",
   "nbconvert_exporter": "python",
   "pygments_lexer": "ipython3",
   "version": "3.9.7"
  },
  "orig_nbformat": 4
 },
 "nbformat": 4,
 "nbformat_minor": 2
}
